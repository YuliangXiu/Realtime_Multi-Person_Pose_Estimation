{
 "cells": [
  {
   "cell_type": "code",
   "execution_count": 1,
   "metadata": {
    "collapsed": true
   },
   "outputs": [],
   "source": [
    "import numpy as np\n",
    "from scipy.io import loadmat, savemat\n",
    "from numpy.core.records import fromarrays\n",
    "from itertools import compress\n",
    "from tqdm import tqdm, tqdm_notebook\n",
    "import os, pprint\n",
    "import cv2 as cv"
   ]
  },
  {
   "cell_type": "code",
   "execution_count": 2,
   "metadata": {
    "collapsed": true
   },
   "outputs": [],
   "source": [
    "pt_mat_path = '/home/yuliang/code/PoseTrack-CVPR2017/data/bonn-multiperson-posetrack/results/exp3/pred_annolist.mat'\n",
    "gt_mat_path = \"/home/yuliang/data/MultiPerson_PoseTrack_v0.1/MultiPerson_PoseTrack_v0.1.mat\"\n",
    "cmu_mat_path = '/home/yuliang/code/PoseTrack-CVPR2017/data/bonn-multiperson-posetrack/results/exp3/cmu_results.mat'\n",
    "\n",
    "pt_mat = loadmat(pt_mat_path)\n",
    "gt_mat = loadmat(gt_mat_path)['RELEASE']\n",
    "# cmu_mat = loadmat(cmu_mat_path)\n",
    "\n",
    "root_dir = \"/home/yuliang/data/MultiPerson_PoseTrack_v0.1/\"\n",
    "video_dir = os.path.join(root_dir,'videos')\n",
    "is_train = gt_mat['is_train'][0,0]\n",
    "\n",
    "video_names = [video_name[0][0] for video_name in gt_mat['annolist'][0,0]['name']]\n",
    "video_frames = [video_frame[0][0] for video_frame in gt_mat['annolist'][0,0]['num_frames']]\n",
    "\n",
    "train_names = list(compress(video_names[:], is_train))\n",
    "test_names = [x for x in video_names if x not in train_names]\n",
    "\n",
    "train_frames = list(compress(video_frames[:], is_train))\n",
    "test_frames = list(compress(video_frames[:], 1-is_train))"
   ]
  },
  {
   "cell_type": "code",
   "execution_count": 3,
   "metadata": {},
   "outputs": [
    {
     "data": {
      "application/vnd.jupyter.widget-view+json": {
       "model_id": "2b16470b565546a9a9b5d0b22ba1dec2"
      }
     },
     "metadata": {},
     "output_type": "display_data"
    },
    {
     "name": "stdout",
     "output_type": "stream",
     "text": [
      "\n"
     ]
    }
   ],
   "source": [
    "openpose_root = '/home/yuliang/code/openpose/'\n",
    "\n",
    "for idx, video_name in enumerate(tqdm_notebook(video_names)):\n",
    "    image_dir = os.path.join(video_dir, video_name)\n",
    "    cmd = 'cd '+openpose_root+' && '+'./build/examples/openpose/openpose.bin'+\\\n",
    "        ' --image_dir='+image_dir+' --write_keypoint_json='+image_dir+\\\n",
    "        ' --no_display --model_pose COCO'\n",
    "    os.system(cmd)\n"
   ]
  },
  {
   "cell_type": "code",
   "execution_count": 92,
   "metadata": {},
   "outputs": [
    {
     "data": {
      "application/vnd.jupyter.widget-view+json": {
       "model_id": "aa6416be982a4631a925b2e654c18e23"
      }
     },
     "metadata": {},
     "output_type": "display_data"
    },
    {
     "name": "stdout",
     "output_type": "stream",
     "text": [
      "\n"
     ]
    }
   ],
   "source": [
    "import json\n",
    "cmu_results = dict()\n",
    "\n",
    "def box_expand(pos):\n",
    "    scale = 0.15\n",
    "    x = pos[1]-pos[0]\n",
    "    y = pos[3]-pos[2]\n",
    "    return [pos[0]-scale*x, pos[1]+scale*x, pos[2]-scale*y, pos[3]+scale*y]\n",
    "\n",
    "for idx, test_name in enumerate(tqdm_notebook(test_names)):\n",
    "    cmu_results[test_name] = {}\n",
    "    cmu_results[test_name]['num_frames'] = test_frames[idx]\n",
    "    for frame in range(1, test_frames[idx]+1):\n",
    "        frame_name = '{:0>5}.jpg'.format(frame)\n",
    "        cmu_results[test_name][frame_name] = {}\n",
    "        with open(os.path.join(video_dir, test_name, \"%s_keypoints.json\"%frame_name[:-4]),'r') as f:\n",
    "            data = json.load(f)\n",
    "            cmu_results[test_name][frame_name]['num_boxes'] = len(data['people'])\n",
    "            for pid in range(1,len(data['people'])+1):\n",
    "                cmu_results[test_name][frame_name][pid] = {}\n",
    "                cmu_results[test_name][frame_name][pid]['box_pose_pos'] = np.asarray(data['people'][pid-1]['pose_keypoints'])\\\n",
    "                                                        .reshape(18,3)[:,:2]\n",
    "                all_pos = cmu_results[test_name][frame_name][pid]['box_pose_pos']\n",
    "                cmu_results[test_name][frame_name][pid]['box_pose_pos'][0,:] = 2.5*(all_pos[-3]+all_pos[-4])-4.0*all_pos[0]\n",
    "                cmu_results[test_name][frame_name][pid]['box_pose_score'] = np.asarray(data['people'][pid-1]['pose_keypoints'])\\\n",
    "                                                        .reshape(18,3)[:,-1].reshape(-1,1)\n",
    "                all_score = cmu_results[test_name][frame_name][pid]['box_pose_score']\n",
    "                cmu_results[test_name][frame_name][pid]['box_pose_score'][0] = np.max(all_score[[0,-4,-3,-2,-1],:])\n",
    "                cmu_results[test_name][frame_name][pid]['box_pose_pos'] = cmu_results[test_name][frame_name][pid]['box_pose_pos'][:-4,:]\n",
    "                cmu_results[test_name][frame_name][pid]['box_pose_score'] = cmu_results[test_name][frame_name][pid]['box_pose_score'][:-4,:]\n",
    "                cmu_results[test_name][frame_name][pid]['box_pos'] = box_expand([np.min(cmu_results[test_name][frame_name][pid]['box_pose_pos'][:,0]),\\\n",
    "                                                                     np.max(cmu_results[test_name][frame_name][pid]['box_pose_pos'][:,0]),\\\n",
    "                                                                     np.min(cmu_results[test_name][frame_name][pid]['box_pose_pos'][:,1]),\\\n",
    "                                                                     np.max(cmu_results[test_name][frame_name][pid]['box_pose_pos'][:,1])])\n",
    "                cmu_results[test_name][frame_name][pid]['box_score'] = np.mean(cmu_results[test_name][frame_name][pid]['box_pose_score'])"
   ]
  },
  {
   "cell_type": "code",
   "execution_count": 99,
   "metadata": {
    "collapsed": true
   },
   "outputs": [],
   "source": [
    "hello = 0\n",
    "\n",
    "def cal_grade(l):\n",
    "    return 0.8*l[0]+0.1*l[1]+0.1*l[2]\n",
    "\n",
    "def best_matching(pid, all_cors, region_ids, frame_name, next_frame_name, cmu_video_info):\n",
    "    global hello\n",
    "    x1, y1, x2, y2, scores = [all_cors[:,col] for col in range(5)]\n",
    "    next_and_ids = {}\n",
    "    all_grades_details = []\n",
    "    all_grades = []\n",
    "    ratio = 0.0\n",
    "    for next_pid in range(1, cmu_video_info[next_frame_name]['num_boxes']+1):\n",
    "        next_and_ids[next_pid] = find_region_cors(cmu_video_info[next_frame_name][next_pid]['box_pos'], all_cors)\n",
    "        inter = region_ids & next_and_ids[next_pid]\n",
    "        union = region_ids | next_and_ids[next_pid]\n",
    "        ratio = len(inter)/(len(union)+0.0001)\n",
    "        box1_score, box2_score = [cmu_video_info[frame_name][pid]['box_score'], cmu_video_info[next_frame_name][next_pid]['box_score']]\n",
    "        single_grade = cal_grade([ratio, box1_score, box2_score])\n",
    "        single_grade_details = [ratio, box1_score, box2_score]\n",
    "        all_grades.append(single_grade)\n",
    "        all_grades_details.append(single_grade_details)\n",
    "    if max(all_grades) > 0.2:\n",
    "        best_match_id = all_grades.index(max(all_grades))\n",
    "        best_match_score = all_grades_details[best_match_id]\n",
    "    else:\n",
    "        hello += 1\n",
    "        print hello\n",
    "        best_match_id = np.nan\n",
    "        best_match_score = all_grades_details[all_grades.index(max(all_grades))]\n",
    "    return best_match_id+1, best_match_score\n",
    "\n",
    "def find_region_cors(box_pos, all_cors):\n",
    "    x1, y1, x2, y2, scores = [all_cors[:,col] for col in range(5)]\n",
    "    x_min, x_max, y_min, y_max = box_pos\n",
    "    x1_region_ids = set(np.where((x1>=x_min) & (x1<=x_max))[0].tolist())\n",
    "    y1_region_ids = set(np.where((y1>=y_min) & (y1<=y_max))[0].tolist())\n",
    "    region_ids = x1_region_ids & y1_region_ids\n",
    "    return region_ids"
   ]
  },
  {
   "cell_type": "code",
   "execution_count": 100,
   "metadata": {},
   "outputs": [
    {
     "data": {
      "application/vnd.jupyter.widget-view+json": {
       "model_id": "5674980b48454824835f13a45fcefe36"
      }
     },
     "metadata": {},
     "output_type": "display_data"
    },
    {
     "name": "stdout",
     "output_type": "stream",
     "text": [
      "000002\n",
      "1\n",
      "2\n",
      "\n"
     ]
    },
    {
     "ename": "TypeError",
     "evalue": "'int' object has no attribute '__getitem__'",
     "output_type": "error",
     "traceback": [
      "\u001b[0;31m---------------------------------------------------------------------------\u001b[0m",
      "\u001b[0;31mTypeError\u001b[0m                                 Traceback (most recent call last)",
      "\u001b[0;32m<ipython-input-100-606ff25044e7>\u001b[0m in \u001b[0;36m<module>\u001b[0;34m()\u001b[0m\n\u001b[1;32m     29\u001b[0m \u001b[0;34m\u001b[0m\u001b[0m\n\u001b[1;32m     30\u001b[0m                 \u001b[0;32mif\u001b[0m \u001b[0;32mnot\u001b[0m \u001b[0mnp\u001b[0m\u001b[0;34m.\u001b[0m\u001b[0misnan\u001b[0m\u001b[0;34m(\u001b[0m\u001b[0mbest_match_pid\u001b[0m\u001b[0;34m)\u001b[0m\u001b[0;34m:\u001b[0m\u001b[0;34m\u001b[0m\u001b[0m\n\u001b[0;32m---> 31\u001b[0;31m                     \u001b[0;32mif\u001b[0m \u001b[0;34m(\u001b[0m\u001b[0;34m'match_score'\u001b[0m \u001b[0;32mnot\u001b[0m \u001b[0;32min\u001b[0m \u001b[0mcmu_results\u001b[0m\u001b[0;34m[\u001b[0m\u001b[0mvideo_name\u001b[0m\u001b[0;34m]\u001b[0m\u001b[0;34m[\u001b[0m\u001b[0mnext_frame_name\u001b[0m\u001b[0;34m]\u001b[0m\u001b[0;34m[\u001b[0m\u001b[0mbest_match_pid\u001b[0m\u001b[0;34m]\u001b[0m\u001b[0;34m)\u001b[0m \u001b[0;32mor\u001b[0m                 \u001b[0;34m(\u001b[0m\u001b[0mcal_grade\u001b[0m\u001b[0;34m(\u001b[0m\u001b[0mmatch_score\u001b[0m\u001b[0;34m)\u001b[0m \u001b[0;34m>\u001b[0m \u001b[0mcal_grade\u001b[0m\u001b[0;34m(\u001b[0m\u001b[0mcmu_results\u001b[0m\u001b[0;34m[\u001b[0m\u001b[0mvideo_name\u001b[0m\u001b[0;34m]\u001b[0m\u001b[0;34m[\u001b[0m\u001b[0mnext_frame_name\u001b[0m\u001b[0;34m]\u001b[0m\u001b[0;34m[\u001b[0m\u001b[0mbest_match_pid\u001b[0m\u001b[0;34m]\u001b[0m\u001b[0;34m[\u001b[0m\u001b[0;34m'match_score'\u001b[0m\u001b[0;34m]\u001b[0m\u001b[0;34m)\u001b[0m\u001b[0;34m)\u001b[0m\u001b[0;34m:\u001b[0m\u001b[0;34m\u001b[0m\u001b[0m\n\u001b[0m\u001b[1;32m     32\u001b[0m                         \u001b[0mcmu_results\u001b[0m\u001b[0;34m[\u001b[0m\u001b[0mvideo_name\u001b[0m\u001b[0;34m]\u001b[0m\u001b[0;34m[\u001b[0m\u001b[0mnext_frame_name\u001b[0m\u001b[0;34m]\u001b[0m\u001b[0;34m[\u001b[0m\u001b[0mbest_match_pid\u001b[0m\u001b[0;34m]\u001b[0m\u001b[0;34m[\u001b[0m\u001b[0;34m'match_score'\u001b[0m\u001b[0;34m]\u001b[0m \u001b[0;34m=\u001b[0m \u001b[0mmatch_score\u001b[0m\u001b[0;34m\u001b[0m\u001b[0m\n\u001b[1;32m     33\u001b[0m                         \u001b[0mlast_frame_related_id\u001b[0m \u001b[0;34m=\u001b[0m \u001b[0mcmu_results\u001b[0m\u001b[0;34m[\u001b[0m\u001b[0mvideo_name\u001b[0m\u001b[0;34m]\u001b[0m\u001b[0;34m[\u001b[0m\u001b[0mframe_name\u001b[0m\u001b[0;34m]\u001b[0m\u001b[0;34m[\u001b[0m\u001b[0mpid\u001b[0m\u001b[0;34m]\u001b[0m\u001b[0;34m[\u001b[0m\u001b[0;34m'new_pid'\u001b[0m\u001b[0;34m]\u001b[0m\u001b[0;34m\u001b[0m\u001b[0m\n",
      "\u001b[0;32m<ipython-input-99-00cf6a02d50a>\u001b[0m in \u001b[0;36mcal_grade\u001b[0;34m(l)\u001b[0m\n\u001b[1;32m      2\u001b[0m \u001b[0;34m\u001b[0m\u001b[0m\n\u001b[1;32m      3\u001b[0m \u001b[0;32mdef\u001b[0m \u001b[0mcal_grade\u001b[0m\u001b[0;34m(\u001b[0m\u001b[0ml\u001b[0m\u001b[0;34m)\u001b[0m\u001b[0;34m:\u001b[0m\u001b[0;34m\u001b[0m\u001b[0m\n\u001b[0;32m----> 4\u001b[0;31m     \u001b[0;32mreturn\u001b[0m \u001b[0;36m0.8\u001b[0m\u001b[0;34m*\u001b[0m\u001b[0ml\u001b[0m\u001b[0;34m[\u001b[0m\u001b[0;36m0\u001b[0m\u001b[0;34m]\u001b[0m\u001b[0;34m+\u001b[0m\u001b[0;36m0.1\u001b[0m\u001b[0;34m*\u001b[0m\u001b[0ml\u001b[0m\u001b[0;34m[\u001b[0m\u001b[0;36m1\u001b[0m\u001b[0;34m]\u001b[0m\u001b[0;34m+\u001b[0m\u001b[0;36m0.1\u001b[0m\u001b[0;34m*\u001b[0m\u001b[0ml\u001b[0m\u001b[0;34m[\u001b[0m\u001b[0;36m2\u001b[0m\u001b[0;34m]\u001b[0m\u001b[0;34m\u001b[0m\u001b[0m\n\u001b[0m\u001b[1;32m      5\u001b[0m \u001b[0;34m\u001b[0m\u001b[0m\n\u001b[1;32m      6\u001b[0m \u001b[0;32mdef\u001b[0m \u001b[0mbest_matching\u001b[0m\u001b[0;34m(\u001b[0m\u001b[0mpid\u001b[0m\u001b[0;34m,\u001b[0m \u001b[0mall_cors\u001b[0m\u001b[0;34m,\u001b[0m \u001b[0mregion_ids\u001b[0m\u001b[0;34m,\u001b[0m \u001b[0mframe_name\u001b[0m\u001b[0;34m,\u001b[0m \u001b[0mnext_frame_name\u001b[0m\u001b[0;34m,\u001b[0m \u001b[0mcmu_video_info\u001b[0m\u001b[0;34m)\u001b[0m\u001b[0;34m:\u001b[0m\u001b[0;34m\u001b[0m\u001b[0m\n",
      "\u001b[0;31mTypeError\u001b[0m: 'int' object has no attribute '__getitem__'"
     ]
    }
   ],
   "source": [
    "dm_dir = '/home/yuliang/code/PoseTrack-CVPR2017/data/bonn-multiperson-posetrack/correspondences'\n",
    "dm_results = dict()\n",
    "\n",
    "for vid, video_name in enumerate(tqdm_notebook(test_names)):\n",
    "    print video_name\n",
    "    dm_results[video_name] = {}\n",
    "    for frame in range(1, test_frames[vid]):\n",
    "        \n",
    "        next_frame = frame + 1\n",
    "        frame_id = '{:0>5}'.format(frame)\n",
    "        frame_name = '{:0>5}.jpg'.format(frame)\n",
    "        next_frame_id = '{:0>5}'.format(next_frame)\n",
    "        next_frame_name = '{:0>5}.jpg'.format(next_frame)\n",
    "        \n",
    "        max_pid_id = 0\n",
    "        \n",
    "        all_cors = np.loadtxt(os.path.join(dm_dir,video_name,\"\".join([frame_id,'_',next_frame_id,'.txt'])))\n",
    "        dm_results[video_name][frame_name] = all_cors\n",
    "        \n",
    "        for pid in range(1, cmu_results[video_name][frame_name]['num_boxes']+1):\n",
    "            if cmu_results[video_name][frame_name][pid] != []:\n",
    "                if frame ==1:\n",
    "                    cmu_results[video_name][frame_name][pid]['new_pid'] = pid\n",
    "                    cmu_results[video_name][frame_name][pid]['match_score'] = 0\n",
    "                box_pos = cmu_results[video_name][frame_name][pid]['box_pos']\n",
    "                region_ids = find_region_cors(box_pos, all_cors)\n",
    "                best_match_pid, match_score = best_matching(pid, all_cors, region_ids, frame_name, next_frame_name, cmu_results[video_name])\n",
    "                \n",
    "                if not np.isnan(best_match_pid):\n",
    "                    if ('match_score' not in cmu_results[video_name][next_frame_name][best_match_pid]) or \\\n",
    "                (cal_grade(match_score) > cal_grade(cmu_results[video_name][next_frame_name][best_match_pid]['match_score'])):\n",
    "                        cmu_results[video_name][next_frame_name][best_match_pid]['match_score'] = match_score\n",
    "                        last_frame_related_id = cmu_results[video_name][frame_name][pid]['new_pid']\n",
    "                        cmu_results[video_name][next_frame_name][best_match_pid]['new_pid'] = last_frame_related_id\n",
    "                        if last_frame_related_id > max_pid_id:\n",
    "                            max_pid_id = last_frame_related_id\n",
    "                    \n",
    "        for next_pid in range(1, cmu_results[video_name][next_frame_name]['num_boxes']+1):\n",
    "            if 'new_pid' not in cmu_results[video_name][next_frame_name][next_pid]:\n",
    "                max_pid_id += 1\n",
    "                cmu_results[video_name][next_frame_name][next_pid]['new_pid'] = max_pid_id \n",
    "                cmu_results[video_name][next_frame_name][next_pid]['match_score'] = 0\n",
    "      "
   ]
  },
  {
   "cell_type": "code",
   "execution_count": null,
   "metadata": {},
   "outputs": [],
   "source": [
    "from numpy.core.records import fromarrays\n",
    "from scipy.io import savemat\n",
    "from tqdm import tqdm_notebook\n",
    "    \n",
    "for idx, test_name in enumerate(test_names):\n",
    "    max_box = 0\n",
    "    for frame in range(1, test_frames[idx]+1):\n",
    "        frame_name = '{:0>5}.jpg'.format(frame)\n",
    "        for pid in range(1, cmu_results[test_name][frame_name]['num_boxes']+1):\n",
    "            if cmu_results[test_name][frame_name][pid]['new_pid'] > max_box:\n",
    "                max_box = cmu_results[test_name][frame_name][pid]['new_pid']\n",
    "    cmu_results[test_name]['num_persons'] = max_box\n",
    "            \n",
    "\n",
    "name1 = ['num_frames', 'name', 'num_persons', 'annopoints']\n",
    "name2 = ['x', 'y', 'is_visible', 'id']\n",
    "\n",
    "pt_part_ids = [0,1,2,3,4,5,10,11,12,13,14,15,8,9]\n",
    "\n",
    "pt_part_names = {0:'RAnkle',1:'RKnee',2:'RHip',3:'LHip',4:'LKnee',5:'LAnkle',10:'RWrist',11:'RElbow',\\\n",
    "                 12:'RShoulder',13:'LShoulder',14:'LElbow',15:'LWrist',8:'Neck',9:'Head'}   \n",
    "\n",
    "cmu_part_ids = [9,8,12,11,10,13,14,15,2,1,0,3,4,5]\n",
    "cmu_part_names = ['Nose','Neck','RShoulder','RElbow','RWrist','LShoulder','LElbow','LWrist',\\\n",
    "                  'RHip','RKnee','RAnkle','LHip','LKnee','LAnkle','REye','LEye','REar','LEar'] \n",
    " \n",
    "\n",
    "num_frames = [num[0][0][0] for num in gt_mat['annolist']['num_frames']]\n",
    "name = test_names\n",
    "num_persons = [cmu_results[vid]['num_persons'] for vid in test_names]\n",
    "annopoints = [np.empty(pair, dtype=np.object) for pair in zip(num_persons, num_frames)]\n",
    "\n",
    "for vid in tqdm_notebook(range(len(annopoints))):\n",
    "    pn, fn = annopoints[vid].shape\n",
    "    for fid in range(1,fn+1):\n",
    "        frame_name = '{:0>5}.jpg'.format(fid)\n",
    "        for pid in range(1, pn+1):\n",
    "            if pid <= cmu_results[name[vid]][frame_name]['num_boxes']:\n",
    "                x = cmu_results[name[vid]][frame_name][pid]['box_pose_pos'][:,0]\n",
    "                y = cmu_results[name[vid]][frame_name][pid]['box_pose_pos'][:,1]\n",
    "                new_pid = cmu_results[name[vid]][frame_name][pid]['new_pid']\n",
    "                is_visible = np.ones((len(y)))\n",
    "                ids = cmu_part_ids\n",
    "                c_len = 5\n",
    "                contents = np.empty([c_len,], dtype=object)\n",
    "                for i in range(c_len):\n",
    "                    contents[i] = np.empty([1,1], dtype=object)\n",
    "                contents[0][0,0] = fromarrays([x, y, is_visible, ids], names=name2)\n",
    "                contents[1][0,0] = cmu_results[name[vid]][frame_name][pid]['box_score']\n",
    "                contents[2][0,0] = cmu_results[name[vid]][frame_name][pid]['box_pos']\n",
    "                contents[3][0,0] = cmu_results[name[vid]][frame_name][pid]['new_pid']\n",
    "                contents[4][0,0] = cmu_results[name[vid]][frame_name][pid]['match_score']\n",
    "                annopoints[vid][new_pid-1,fid-1] = fromarrays([contents[0], contents[1], contents[2], contents[3], contents[4]], \\\n",
    "                                                          names=['point','box_score','box_pos','new_pid','match_score'],\\\n",
    "                                                          formats=['O', 'O', 'O', 'O', 'O'])\n",
    "            else:\n",
    "                for pid in range(1, pn+1):\n",
    "                    if type(annopoints[vid][pid-1,fid-1]) is not np.recarray:\n",
    "                        annopoints[vid][pid-1, fid-1] = []\n",
    "\n",
    "myrec = fromarrays([num_frames, name, num_persons, annopoints], names=name1)\n",
    "savemat(cmu_mat_path, {'annolist': myrec})"
   ]
  },
  {
   "cell_type": "code",
   "execution_count": null,
   "metadata": {
    "collapsed": true
   },
   "outputs": [],
   "source": [
    "gt_mat = loadmat('/home/yuliang/code/PoseTrack-CVPR2017/data/bonn-multiperson-posetrack/annolist/test/annolist.mat')\n",
    "cmu_mat = loadmat('/home/yuliang/code/PoseTrack-CVPR2017/data/bonn-multiperson-posetrack/results/exp3/cmu_results.mat')"
   ]
  },
  {
   "cell_type": "code",
   "execution_count": null,
   "metadata": {},
   "outputs": [],
   "source": [
    "def cal_diff(l1, l2):\n",
    "    return np.sum(np.abs(np.array(l1)-np.array(l2)))\n",
    "\n",
    "print 'ground truth tracking numbers:'\n",
    "gt_num_persons = [int(item[0][0][0]) for item in gt_mat['annolist']['num_persons']]\n",
    "print gt_num_persons\n",
    "print 'posetrack tracking numbers:'\n",
    "pt_num_persons = [int(item[0][0]) for item in pt_mat['annolist'][0]['num_persons']]\n",
    "print pt_num_persons\n",
    "print 'posetrack-groundtruth diff:',cal_diff(pt_num_persons, gt_num_persons)\n",
    "print 'cmu tracking numbers:'\n",
    "cmu_num_persons = [int(item[0][0]) for item in cmu_mat['annolist'][0]['num_persons']]\n",
    "print cmu_num_persons\n",
    "print 'cmu-groundtruth diff:',cal_diff(cmu_num_persons, gt_num_persons)"
   ]
  },
  {
   "cell_type": "code",
   "execution_count": null,
   "metadata": {
    "collapsed": true
   },
   "outputs": [],
   "source": []
  }
 ],
 "metadata": {
  "kernelspec": {
   "display_name": "Python 2",
   "language": "python",
   "name": "python2"
  },
  "language_info": {
   "codemirror_mode": {
    "name": "ipython",
    "version": 2
   },
   "file_extension": ".py",
   "mimetype": "text/x-python",
   "name": "python",
   "nbconvert_exporter": "python",
   "pygments_lexer": "ipython2",
   "version": "2.7.13"
  }
 },
 "nbformat": 4,
 "nbformat_minor": 2
}
