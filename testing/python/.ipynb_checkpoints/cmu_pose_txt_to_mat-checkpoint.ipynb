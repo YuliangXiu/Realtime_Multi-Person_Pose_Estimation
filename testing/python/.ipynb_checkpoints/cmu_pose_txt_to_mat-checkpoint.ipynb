{
 "cells": [
  {
   "cell_type": "code",
   "execution_count": 20,
   "metadata": {
    "collapsed": true
   },
   "outputs": [],
   "source": [
    "import numpy as np\n",
    "from scipy.io import loadmat, savemat\n",
    "from numpy.core.records import fromarrays\n",
    "from itertools import compress\n",
    "from tqdm import tqdm, tqdm_notebook\n",
    "import os, pprint\n",
    "import cv2 as cv"
   ]
  },
  {
   "cell_type": "code",
   "execution_count": 47,
   "metadata": {},
   "outputs": [],
   "source": [
    "pt_mat_path = '/home/yuliang/code/PoseTrack-CVPR2017/data/bonn-multiperson-posetrack/results/exp3/pred_annolist.mat'\n",
    "gt_mat_path = \"/home/yuliang/data/MultiPerson_PoseTrack_v0.1/MultiPerson_PoseTrack_v0.1.mat\"\n",
    "cmu_mat_path = '/home/yuliang/code/PoseTrack-CVPR2017/data/bonn-multiperson-posetrack/results/exp3/cmu_results.mat'\n",
    "\n",
    "pt_mat = loadmat(pt_mat_path)\n",
    "gt_mat = loadmat(gt_mat_path)['RELEASE']\n",
    "# cmu_mat = loadmat(cmu_mat_path)\n",
    "\n",
    "root_dir = \"/home/yuliang/data/MultiPerson_PoseTrack_v0.1/\"\n",
    "video_dir = os.path.join(root_dir,'videos')\n",
    "is_train = gt_mat['is_train'][0,0]\n",
    "\n",
    "video_names = [video_name[0][0] for video_name in gt_mat['annolist'][0,0]['name']]\n",
    "video_frames = [video_frame[0][0] for video_frame in gt_mat['annolist'][0,0]['num_frames']]\n",
    "\n",
    "train_names = list(compress(video_names[:], is_train))\n",
    "test_names = [x for x in video_names if x not in train_names]\n",
    "\n",
    "train_frames = list(compress(video_frames[:], is_train))\n",
    "test_frames = list(compress(video_frames[:], 1-is_train))"
   ]
  },
  {
   "cell_type": "code",
   "execution_count": 25,
   "metadata": {},
   "outputs": [
    {
     "data": {
      "application/vnd.jupyter.widget-view+json": {
       "model_id": "85c6f2d7a8e14c03bcff461914ba6002"
      }
     },
     "metadata": {},
     "output_type": "display_data"
    },
    {
     "name": "stdout",
     "output_type": "stream",
     "text": [
      "\n"
     ]
    }
   ],
   "source": [
    "openpose_root = '/home/yuliang/code/openpose/'\n",
    "\n",
    "for idx, video_name in enumerate(tqdm_notebook(video_names)):\n",
    "    image_dir = os.path.join(video_dir, video_name)\n",
    "    cmd = 'cd '+openpose_root+' && '+'./build/examples/openpose/openpose.bin'+\\\n",
    "        ' --image_dir='+image_dir+' --write_keypoint_json='+image_dir+\\\n",
    "        ' --no_display --model_pose COCO'\n",
    "    os.system(cmd)\n"
   ]
  },
  {
   "cell_type": "code",
   "execution_count": 64,
   "metadata": {},
   "outputs": [
    {
     "data": {
      "application/vnd.jupyter.widget-view+json": {
       "model_id": "c106fae6a8bb407b9bd1f113ca6cb7aa"
      }
     },
     "metadata": {},
     "output_type": "display_data"
    },
    {
     "name": "stdout",
     "output_type": "stream",
     "text": [
      "\n"
     ]
    }
   ],
   "source": [
    "import json\n",
    "cmu_results = dict()\n",
    "\n",
    "def box_expand(pos):\n",
    "    scale = 0.15\n",
    "    x = pos[1]-pos[0]\n",
    "    y = pos[3]-pos[2]\n",
    "    return [pos[0]-scale*x, pos[1]+scale*x, pos[2]-scale*y, pos[3]+scale*y]\n",
    "\n",
    "for idx, test_name in enumerate(tqdm_notebook(test_names)):\n",
    "    cmu_results[test_name] = {}\n",
    "    cmu_results[test_name]['num_frames'] = test_frames[idx]\n",
    "    for frame in range(1, test_frames[idx]+1):\n",
    "        frame_name = '{:0>5}.jpg'.format(frame)\n",
    "        cmu_results[test_name][frame_name] = {}\n",
    "        with open(os.path.join(video_dir, test_name, \"%s_keypoints.json\"%frame_name[:-4]),'r') as f:\n",
    "            data = json.load(f)\n",
    "            cmu_results[test_name][frame_name]['num_boxes'] = len(data['people'])\n",
    "            for pid in range(1,len(data['people'])+1):\n",
    "                cmu_results[test_name][frame_name][pid] = {}\n",
    "                cmu_results[test_name][frame_name][pid]['box_pose_pos'] = np.asarray(data['people'][pid-1]['pose_keypoints'])\\\n",
    "                                                        .reshape(18,3)[:-4,:2]\n",
    "                cmu_results[test_name][frame_name][pid]['box_pose_score'] = np.asarray(data['people'][pid-1]['pose_keypoints'])\\\n",
    "                                                        .reshape(18,3)[:-4,-1]\n",
    "                cmu_results[test_name][frame_name][pid]['box_pos'] = box_expand([np.min(cmu_results[test_name][frame_name][pid]['box_pose_pos'][:,0]),\\\n",
    "                                                                     np.max(cmu_results[test_name][frame_name][pid]['box_pose_pos'][:,0]),\\\n",
    "                                                                     np.min(cmu_results[test_name][frame_name][pid]['box_pose_pos'][:,1]),\\\n",
    "                                                                     np.max(cmu_results[test_name][frame_name][pid]['box_pose_pos'][:,1])])\n",
    "                cmu_results[test_name][frame_name][pid]['box_score'] = np.mean(cmu_results[test_name][frame_name][pid]['box_pose_score'])"
   ]
  },
  {
   "cell_type": "code",
   "execution_count": 65,
   "metadata": {
    "collapsed": true
   },
   "outputs": [],
   "source": [
    "def best_matching(pid, all_cors, region_ids, frame_name, next_frame_name, cmu_video_info):\n",
    "    x1, y1, x2, y2, scores = [all_cors[:,col] for col in range(5)]\n",
    "    next_and_ids = {}\n",
    "    all_grades_details = []\n",
    "    all_grades = []\n",
    "    ratio = 0.0\n",
    "    for next_pid in range(1, cmu_video_info[next_frame_name]['num_boxes']+1):\n",
    "        next_and_ids[next_pid] = find_region_cors(cmu_video_info[next_frame_name][next_pid]['box_pos'], all_cors)\n",
    "        inter = region_ids & next_and_ids[next_pid]\n",
    "        union = region_ids | next_and_ids[next_pid]\n",
    "        ratio = len(inter)/(len(union)+0.0001)\n",
    "        box1_score, box2_score = [cmu_video_info[frame_name][pid]['box_score'], cmu_video_info[next_frame_name][next_pid]['box_score']]\n",
    "        single_grade = ratio*100 + sum([box1_score, box2_score])*10\n",
    "        single_grade_details = [ratio, box1_score, box2_score]\n",
    "        all_grades.append(single_grade)\n",
    "        all_grades_details.append(single_grade_details)\n",
    "    if max(all_grades) > 40:\n",
    "        best_match_id = all_grades.index(max(all_grades))\n",
    "        best_match_score = all_grades_details[best_match_id]\n",
    "    else:\n",
    "        best_match_id = np.nan\n",
    "        best_match_score = all_grades_details[all_grades.index(max(all_grades))]\n",
    "    return best_match_id+1, best_match_score\n",
    "\n",
    "def find_region_cors(box_pos, all_cors):\n",
    "    x1, y1, x2, y2, scores = [all_cors[:,col] for col in range(5)]\n",
    "    x_min, x_max, y_min, y_max = box_pos\n",
    "    x1_region_ids = set(np.where((x1>=x_min) & (x1<=x_max))[0].tolist())\n",
    "    y1_region_ids = set(np.where((y1>=y_min) & (y1<=y_max))[0].tolist())\n",
    "    region_ids = x1_region_ids & y1_region_ids\n",
    "    return region_ids"
   ]
  },
  {
   "cell_type": "code",
   "execution_count": 66,
   "metadata": {},
   "outputs": [
    {
     "data": {
      "application/vnd.jupyter.widget-view+json": {
       "model_id": "34b383428a8e43b7a8fdc5bbd2b0e508"
      }
     },
     "metadata": {},
     "output_type": "display_data"
    },
    {
     "name": "stdout",
     "output_type": "stream",
     "text": [
      "\n"
     ]
    }
   ],
   "source": [
    "dm_dir = '/home/yuliang/code/PoseTrack-CVPR2017/data/bonn-multiperson-posetrack/correspondences'\n",
    "dm_results = dict()\n",
    "\n",
    "for vid, video_name in enumerate(tqdm_notebook(test_names)):\n",
    "    dm_results[video_name] = {}\n",
    "    for frame in range(1, test_frames[vid]):\n",
    "        \n",
    "        next_frame = frame + 1\n",
    "        frame_id = '{:0>5}'.format(frame)\n",
    "        frame_name = '{:0>5}.jpg'.format(frame)\n",
    "        next_frame_id = '{:0>5}'.format(next_frame)\n",
    "        next_frame_name = '{:0>5}.jpg'.format(next_frame)\n",
    "        \n",
    "        max_pid_id = 0\n",
    "        \n",
    "        all_cors = np.loadtxt(os.path.join(dm_dir,video_name,\"\".join([frame_id,'_',next_frame_id,'.txt'])))\n",
    "        dm_results[video_name][frame_name] = all_cors\n",
    "        \n",
    "        for pid in range(1, cmu_results[video_name][frame_name]['num_boxes']+1):\n",
    "            if cmu_results[video_name][frame_name][pid] != []:\n",
    "                if frame ==1:\n",
    "                    cmu_results[video_name][frame_name][pid]['new_pid'] = pid\n",
    "                box_pos = cmu_results[video_name][frame_name][pid]['box_pos']\n",
    "                region_ids = find_region_cors(box_pos, all_cors)\n",
    "                best_match_pid, match_score = best_matching(pid, all_cors, region_ids, frame_name, next_frame_name, cmu_results[video_name])\n",
    "                cmu_results[video_name][frame_name][pid]['match_score'] = match_score\n",
    "                if not np.isnan(best_match_pid):\n",
    "                    last_frame_related_id = cmu_results[video_name][frame_name][pid]['new_pid']\n",
    "                    cmu_results[video_name][next_frame_name][best_match_pid]['new_pid'] = last_frame_related_id\n",
    "                    if last_frame_related_id > max_pid_id:\n",
    "                        max_pid_id = last_frame_related_id\n",
    "        for next_pid in range(1, cmu_results[video_name][next_frame_name]['num_boxes']+1):\n",
    "            if 'new_pid' not in cmu_results[video_name][next_frame_name][next_pid]:\n",
    "                max_pid_id += 1\n",
    "                cmu_results[video_name][next_frame_name][next_pid]['new_pid'] = max_pid_id \n",
    "        if next_frame == test_frames[vid]:\n",
    "            for pid in range(1, cmu_results[video_name][next_frame_name]['num_boxes']+1):\n",
    "                cmu_results[video_name][next_frame_name][pid]['match_score'] = 0\n",
    "      "
   ]
  },
  {
   "cell_type": "code",
   "execution_count": 69,
   "metadata": {},
   "outputs": [
    {
     "data": {
      "application/vnd.jupyter.widget-view+json": {
       "model_id": "fd6e989b14e64c2b8d3fa84683268066"
      }
     },
     "metadata": {},
     "output_type": "display_data"
    },
    {
     "name": "stdout",
     "output_type": "stream",
     "text": [
      "\n"
     ]
    }
   ],
   "source": [
    "from numpy.core.records import fromarrays\n",
    "from scipy.io import savemat\n",
    "from tqdm import tqdm_notebook\n",
    "    \n",
    "for idx, test_name in enumerate(test_names):\n",
    "    max_box = 0\n",
    "    for frame in range(1, test_frames[idx]+1):\n",
    "        frame_name = '{:0>5}.jpg'.format(frame)\n",
    "        for pid in range(1, cmu_results[test_name][frame_name]['num_boxes']+1):\n",
    "            if cmu_results[test_name][frame_name][pid]['new_pid'] > max_box:\n",
    "                max_box = cmu_results[test_name][frame_name][pid]['new_pid']\n",
    "    cmu_results[test_name]['num_persons'] = max_box\n",
    "            \n",
    "\n",
    "name1 = ['num_frames', 'name', 'num_persons', 'annopoints']\n",
    "name2 = ['x', 'y', 'is_visible', 'id']\n",
    "\n",
    "pt_part_ids = [0,1,2,3,4,5,10,11,12,13,14,15,8,9]\n",
    "\n",
    "pt_part_names = {0:'RAnkle',1:'RKnee',2:'RHip',3:'LHip',4:'LKnee',5:'LAnkle',10:'RWrist',11:'RElbow',\\\n",
    "                 12:'RShoulder',13:'LShoulder',14:'LElbow',15:'LWrist',8:'Neck',9:'Head'}   \n",
    "\n",
    "cmu_part_ids = [9,8,12,11,10,13,14,15,2,1,0,3,4,5]\n",
    "cmu_part_names = ['Nose','Neck','RShoulder','RElbow','RWrist','LShoulder','LElbow','LWrist',\\\n",
    "                  'RHip','RKnee','RAnkle','LHip','LKnee','LAnkle','REye','LEye','REar','LEar'] \n",
    " \n",
    "\n",
    "num_frames = [num[0][0] for num in pt_mat['annolist'][0]['num_frames']]\n",
    "name = test_names\n",
    "num_persons = [cmu_results[vid]['num_persons'] for vid in test_names]\n",
    "annopoints = [np.empty(pair, dtype=np.object) for pair in zip(num_persons, num_frames)]\n",
    "\n",
    "for vid in tqdm_notebook(range(len(annopoints))):\n",
    "    pn, fn = annopoints[vid].shape\n",
    "    for fid in range(1,fn+1):\n",
    "        frame_name = '{:0>5}.jpg'.format(fid)\n",
    "        for pid in range(1, pn+1):\n",
    "            if pid <= cmu_results[name[vid]][frame_name]['num_boxes']:\n",
    "                x = cmu_results[name[vid]][frame_name][pid]['box_pose_pos'][:,0]\n",
    "                y = cmu_results[name[vid]][frame_name][pid]['box_pose_pos'][:,1]\n",
    "                new_pid = cmu_results[name[vid]][frame_name][pid]['new_pid']\n",
    "                is_visible = np.ones((len(y)))\n",
    "                ids = cmu_part_ids\n",
    "                c_len = 5\n",
    "                contents = np.empty([c_len,], dtype=object)\n",
    "                for i in range(c_len):\n",
    "                    contents[i] = np.empty([1,1], dtype=object)\n",
    "                contents[0][0,0] = fromarrays([x, y, is_visible, ids], names=name2)\n",
    "                contents[1][0,0] = cmu_results[name[vid]][frame_name][pid]['box_score']\n",
    "                contents[2][0,0] = cmu_results[name[vid]][frame_name][pid]['box_pos']\n",
    "                contents[3][0,0] = cmu_results[name[vid]][frame_name][pid]['new_pid']\n",
    "                contents[4][0,0] = cmu_results[name[vid]][frame_name][pid]['match_score']\n",
    "                annopoints[vid][new_pid-1,fid-1] = fromarrays([contents[0], contents[1], contents[2], contents[3], contents[4]], \\\n",
    "                                                          names=['point','box_score','box_pos','new_pid','match_score'],\\\n",
    "                                                          formats=['O', 'O', 'O', 'O', 'O'])\n",
    "            else:\n",
    "                for pid in range(1, pn+1):\n",
    "                    if type(annopoints[vid][pid-1,fid-1]) is not np.recarray:\n",
    "                        annopoints[vid][pid-1, fid-1] = []\n",
    "\n",
    "myrec = fromarrays([num_frames, name, num_persons, annopoints], names=name1)\n",
    "savemat(cmu_mat_path, {'annolist': myrec})"
   ]
  },
  {
   "cell_type": "code",
   "execution_count": 70,
   "metadata": {
    "collapsed": true
   },
   "outputs": [],
   "source": [
    "gt_mat = loadmat('/home/yuliang/code/PoseTrack-CVPR2017/data/bonn-multiperson-posetrack/annolist/test/annolist.mat')\n",
    "cmu_mat = loadmat('/home/yuliang/code/PoseTrack-CVPR2017/data/bonn-multiperson-posetrack/results/exp3/cmu_results.mat')"
   ]
  },
  {
   "cell_type": "code",
   "execution_count": 72,
   "metadata": {},
   "outputs": [
    {
     "name": "stdout",
     "output_type": "stream",
     "text": [
      "ground truth tracking numbers:\n",
      "[4, 3, 6, 2, 5, 3, 7, 8, 3, 5, 3, 2, 4, 10, 6, 5, 2, 13, 4, 10, 4, 3, 4, 11, 16, 14, 8, 8, 5, 5] <type 'list'>\n",
      "posetrack tracking numbers:\n",
      "[15, 4, 11, 5, 8, 3, 9, 4, 4, 5, 4, 6, 4, 12, 7, 12, 2, 15, 7, 10, 7, 6, 5, 12, 16, 14, 7, 12, 10, 5] <type 'list'>\n",
      "posetrack-groundtruth diff: 68\n",
      "cmu tracking numbers:\n",
      "[77, 12, 34, 11, 51, 11, 48, 17, 11, 15, 9, 2, 12, 49, 23, 33, 10, 40, 29, 49, 20, 10, 12, 68, 90, 93, 67, 56, 24, 24] <type 'list'>\n",
      "cmu-groundtruth diff: 824\n"
     ]
    }
   ],
   "source": [
    "def cal_diff(l1, l2):\n",
    "    return np.sum(np.abs(np.array(l1)-np.array(l2)))\n",
    "\n",
    "print 'ground truth tracking numbers:'\n",
    "gt_num_persons = [int(item[0][0][0]) for item in gt_mat['annolist']['num_persons']]\n",
    "print gt_num_persons\n",
    "print 'posetrack tracking numbers:'\n",
    "pt_num_persons = [int(item[0][0]) for item in pt_mat['annolist'][0]['num_persons']]\n",
    "print pt_num_persons\n",
    "print 'posetrack-groundtruth diff:',cal_diff(pt_num_persons, gt_num_persons)\n",
    "print 'cmu tracking numbers:'\n",
    "cmu_num_persons = [int(item[0][0]) for item in cmu_mat['annolist'][0]['num_persons']]\n",
    "print cmu_num_persons\n",
    "print 'cmu-groundtruth diff:',cal_diff(cmu_num_persons, gt_num_persons)"
   ]
  },
  {
   "cell_type": "code",
   "execution_count": null,
   "metadata": {
    "collapsed": true
   },
   "outputs": [],
   "source": []
  }
 ],
 "metadata": {
  "kernelspec": {
   "display_name": "Python 2",
   "language": "python",
   "name": "python2"
  },
  "language_info": {
   "codemirror_mode": {
    "name": "ipython",
    "version": 2
   },
   "file_extension": ".py",
   "mimetype": "text/x-python",
   "name": "python",
   "nbconvert_exporter": "python",
   "pygments_lexer": "ipython2",
   "version": "2.7.13"
  }
 },
 "nbformat": 4,
 "nbformat_minor": 2
}
